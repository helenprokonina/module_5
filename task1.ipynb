{
 "cells": [
  {
   "cell_type": "code",
   "execution_count": 2,
   "metadata": {
    "collapsed": true,
    "pycharm": {
     "name": "#%%\n"
    },
    "id": "y5GI-SgmVgBR"
   },
   "outputs": [],
   "source": [
    "from io import open\n",
    "import unicodedata\n",
    "import string\n",
    "import re\n",
    "import torch\n",
    "import torch.nn as nn\n",
    "from torch import optim\n",
    "import warnings\n",
    "from scipy.spatial.distance import hamming\n",
    "\n",
    "warnings.filterwarnings(\"ignore\")"
   ]
  },
  {
   "cell_type": "code",
   "execution_count": null,
   "outputs": [],
   "source": [
    "BATCH_SIZE = 512"
   ],
   "metadata": {
    "collapsed": false,
    "pycharm": {
     "name": "#%%\n"
    }
   }
  },
  {
   "cell_type": "code",
   "execution_count": 3,
   "outputs": [],
   "source": [
    "#алфавит для шифрования Цезаря (без пробела)\n",
    "letters=\"abcdefghijklmnopqrstuvwxyz\"\n",
    "\n",
    "CHAR2INDEX={l: i for i, l in enumerate(letters)}\n",
    "INDEX2CHAR={i: l for i, l in enumerate(letters)}"
   ],
   "metadata": {
    "pycharm": {
     "name": "#%%\n"
    },
    "id": "frCcCfyGVgBY"
   }
  },
  {
   "cell_type": "code",
   "execution_count": 4,
   "outputs": [],
   "source": [
    "#функция шифровальщик Цезаря\n",
    "def Cesar_encoder(s, N):\n",
    "    #N-количество символов на сколько мы сдвигаемся\n",
    "    new_s=[]\n",
    "    for word in s.split(\" \"):\n",
    "        new_word=[]\n",
    "        for c in word.lower().strip():\n",
    "            if c>='a' and c <='z':\n",
    "              c=INDEX2CHAR[(CHAR2INDEX[c]+N)%26]\n",
    "            new_word.append(c)\n",
    "        new_word=\"\".join(new_word)\n",
    "        new_s.append(new_word)\n",
    "    new_s=\" \".join(new_s)\n",
    "    return new_s"
   ],
   "metadata": {
    "pycharm": {
     "name": "#%%\n"
    },
    "id": "f6lNE732VgBf"
   }
  },
  {
   "cell_type": "code",
   "execution_count": 5,
   "outputs": [],
   "source": [
    "#функция дешифровальщик Цезаря\n",
    "def Cesar_decoder(s, N):\n",
    "    #N-количество символов на сколько мы сдвигаемся\n",
    "    new_s=[]\n",
    "    for word in s.split(\" \"):\n",
    "        new_word=[]\n",
    "        for c in word.lower().strip():\n",
    "            if c>='a' and c<='z':\n",
    "              c=INDEX2CHAR[(CHAR2INDEX[c]-N)%26]\n",
    "            new_word.append(c)\n",
    "        new_word=\"\".join(new_word)\n",
    "        new_s.append(new_word)\n",
    "    new_s=\" \".join(new_s)\n",
    "    return new_s"
   ],
   "metadata": {
    "pycharm": {
     "name": "#%%\n"
    },
    "id": "0zJCOa9MVgBh"
   }
  },
  {
   "cell_type": "code",
   "source": [
    "def load_text(txt_path):\n",
    "  with open(txt_path, encoding='utf-8') as txt_file:\n",
    "        text = txt_file.read()\n",
    "        text = re.sub('[^a-z\\.!? ]', '', text)\n",
    "  txt_file.close()\n",
    "  return text"
   ],
   "metadata": {
    "id": "dFcHkiVKxSql",
    "pycharm": {
     "name": "#%%\n"
    }
   },
   "execution_count": 196,
   "outputs": []
  },
  {
   "cell_type": "code",
   "source": [
    "def get_sentences(text):\n",
    "  text=text.lower()\n",
    "  text = re.sub('[^a-z\\.!? ]', '', text)\n",
    "  sentences=re.split(r\"\\.\\.\\.\\s*|[.?!]\\s*\", text)\n",
    "  for sentence in sentences:\n",
    "    if len(sentence)==0:\n",
    "      sentences.remove(sentence)\n",
    "  return sentences"
   ],
   "metadata": {
    "id": "yVlnphTqj_55",
    "pycharm": {
     "name": "#%%\n"
    }
   },
   "execution_count": 282,
   "outputs": []
  },
  {
   "cell_type": "code",
   "execution_count": null,
   "outputs": [],
   "source": [
    "#функция для подготовки предложений\n",
    "def prepare_data(txt_path):\n",
    "    text=load_text(txt_path)\n",
    "    sentences=get_sentences(text)\n",
    "    MAX_LEN=max([len(sentence) for sentence in sentences])\n",
    "    return sentences, MAX_LEN"
   ],
   "metadata": {
    "collapsed": false,
    "pycharm": {
     "name": "#%%\n"
    }
   }
  },
  {
   "cell_type": "code",
   "source": [
    "sentences, MAX_LEN=prepare_data('nietzsche.txt')"
   ],
   "metadata": {
    "id": "4SLRtrHfxiSj",
    "pycharm": {
     "name": "#%%\n"
    }
   },
   "execution_count": 234,
   "outputs": []
  },
  {
   "cell_type": "code",
   "execution_count": 250,
   "outputs": [],
   "source": [
    "#алфавит для векторизации слов (с пробелом)\n",
    "alphabet=\" abcdefghijklmnopqrstuvwxyz\"\n",
    "\n",
    "letter2index={l: i for i, l in enumerate(alphabet)}\n",
    "index2letter={i: l for i, l in enumerate(alphabet)}"
   ],
   "metadata": {
    "pycharm": {
     "name": "#%%\n"
    },
    "id": "YzSnew1mVgBs"
   }
  },
  {
   "cell_type": "code",
   "execution_count": null,
   "outputs": [],
   "source": [
    "def make_data(sentences, MAX_LEN, N):\n",
    "    ENCODED_TEXT = []\n",
    "    DECODED_TEXT = []\n",
    "    # Формируем X и Y\n",
    "    for sentence in sentences:\n",
    "        ENCODED_TEXT.append(Cesar_encoder(sentence,N))  # Формируем наши X\n",
    "        DECODED_TEXT.append(sentence)    # Формируем Y расшифрованный текст\n",
    "\n",
    "   #кодируем наши фразы в тензоры\n",
    "    X = torch.zeros((len(ENCODED_TEXT),MAX_LEN), dtype=int)\n",
    "    Y = torch.zeros((len(DECODED_TEXT),MAX_LEN), dtype=int)\n",
    "\n",
    "# Пробегаемся по нашим кусочкам предложений и кодируем под сформированные символы\n",
    "    for i, sentence in enumerate(ENCODED_TEXT):\n",
    "        for t, char in enumerate(sentence):\n",
    "            X[i, t] = letter2index[char]\n",
    "\n",
    "    for i, sentence in enumerate(DECODED_TEXT):\n",
    "        for t, char in enumerate(sentence):\n",
    "            Y[i, t] = letter2index[char]\n",
    "\n",
    "    dataset = torch.utils.data.TensorDataset(X, Y)\n",
    "    data = torch.utils.data.DataLoader(dataset, BATCH_SIZE, shuffle=True)\n",
    "\n",
    "    return data"
   ],
   "metadata": {
    "collapsed": false,
    "pycharm": {
     "name": "#%%\n"
    }
   }
  },
  {
   "cell_type": "code",
   "execution_count": null,
   "outputs": [],
   "source": [
    "data = make_data(sentences, MAX_LEN, N=3)"
   ],
   "metadata": {
    "collapsed": false,
    "pycharm": {
     "name": "#%%\n"
    }
   }
  },
  {
   "cell_type": "code",
   "source": [
    "# Строим класс RNN\n",
    "class Rnn(torch.nn.Module):\n",
    "                        # тип     размер словаря  размер эмб       скрытые слои   классы\n",
    "    def __init__(self, dictionary_size, embedding_size, num_hiddens, output_size):\n",
    "        super().__init__()\n",
    "        self.num_hiddens = num_hiddens\n",
    "        self.embedding = nn.Embedding(dictionary_size, embedding_size)\n",
    "        self.hidden = nn.RNN(embedding_size, num_hiddens, batch_first=True)\n",
    "        self.fc = nn.Linear(num_hiddens, output_size)\n",
    "        \n",
    "\n",
    "    def forward(self, X):\n",
    "        out = self.embedding(X)\n",
    "        out, state = self.hidden(out)  \n",
    "        predictions = self.fc(out) \n",
    "        return predictions"
   ],
   "metadata": {
    "id": "0gGVsJD4Yg_e",
    "pycharm": {
     "name": "#%%\n"
    }
   },
   "execution_count": 253,
   "outputs": []
  },
  {
   "cell_type": "code",
   "source": [
    "model = Rnn(len(letter2index), 64, 128, len(letter2index))"
   ],
   "metadata": {
    "id": "sWL4kUNeaXd2",
    "pycharm": {
     "name": "#%%\n"
    }
   },
   "execution_count": 254,
   "outputs": []
  },
  {
   "cell_type": "code",
   "source": [
    "criterion = torch.nn.CrossEntropyLoss()\n",
    "optimizer = torch.optim.Adam(model.parameters())"
   ],
   "metadata": {
    "id": "W4Z5mpqObx4q",
    "pycharm": {
     "name": "#%%\n"
    }
   },
   "execution_count": 255,
   "outputs": []
  },
  {
   "cell_type": "code",
   "source": [
    "for ep in range(20):\n",
    "    train_loss = 0.\n",
    "    train_passed = 0\n",
    "\n",
    "    model.train()\n",
    "    for X_b, y_b in data:\n",
    "        #print(X_b.shape)\n",
    "        #print(y_b.shape)\n",
    "        y_b=y_b.flatten()\n",
    "        #print(y_b.shape)\n",
    "        optimizer.zero_grad()\n",
    "        answers = model(X_b)\n",
    "        answers = answers.view(-1, len(letter2index))\n",
    "        #print(answers.shape)\n",
    "        loss = criterion(answers, y_b)\n",
    "        train_loss += loss.item()\n",
    "\n",
    "        loss.backward()\n",
    "        optimizer.step()\n",
    "        train_passed += 1\n",
    "\n",
    "    print(\"Epoch {}   Train Loss: {:.3f}\".format(ep, train_loss / train_passed))"
   ],
   "metadata": {
    "colab": {
     "base_uri": "https://localhost:8080/"
    },
    "id": "LoyDf64Mb5gF",
    "outputId": "6d01cda8-52f7-4e06-b39d-92b6980b68be",
    "pycharm": {
     "name": "#%%\n"
    }
   },
   "execution_count": 258,
   "outputs": [
    {
     "output_type": "stream",
     "name": "stdout",
     "text": [
      "Epoch 0   Train Loss: 0.026\n",
      "Epoch 1   Train Loss: 0.025\n",
      "Epoch 2   Train Loss: 0.023\n",
      "Epoch 3   Train Loss: 0.021\n",
      "Epoch 4   Train Loss: 0.020\n",
      "Epoch 5   Train Loss: 0.018\n",
      "Epoch 6   Train Loss: 0.017\n",
      "Epoch 7   Train Loss: 0.016\n",
      "Epoch 8   Train Loss: 0.015\n",
      "Epoch 9   Train Loss: 0.014\n",
      "Epoch 10   Train Loss: 0.013\n",
      "Epoch 11   Train Loss: 0.013\n",
      "Epoch 12   Train Loss: 0.012\n",
      "Epoch 13   Train Loss: 0.011\n",
      "Epoch 14   Train Loss: 0.011\n",
      "Epoch 15   Train Loss: 0.010\n",
      "Epoch 16   Train Loss: 0.009\n",
      "Epoch 17   Train Loss: 0.009\n",
      "Epoch 18   Train Loss: 0.009\n",
      "Epoch 19   Train Loss: 0.008\n"
     ]
    }
   ]
  },
  {
   "cell_type": "markdown",
   "source": [
    "# Проверка Модели"
   ],
   "metadata": {
    "collapsed": false,
    "pycharm": {
     "name": "#%% md\n"
    }
   }
  },
  {
   "cell_type": "code",
   "execution_count": 283,
   "outputs": [],
   "source": [
    "sentence=\"In cryptography, a Caesar cipher, also known as Caesar's cipher, the shift cipher, Caesar's code or Caesar shift, is one of the simplest and most widely known encryption techniques.\"\n"
   ],
   "metadata": {
    "collapsed": false,
    "pycharm": {
     "name": "#%%\n"
    }
   }
  },
  {
   "cell_type": "code",
   "source": [
    "sentence=get_sentences(sentence)[0]"
   ],
   "metadata": {
    "id": "RAY_rcOcCBWO",
    "pycharm": {
     "name": "#%%\n"
    }
   },
   "execution_count": 284,
   "outputs": []
  },
  {
   "cell_type": "code",
   "source": [
    "print(sentence)\n",
    "Encoded_text=Cesar_encoder(sentence, 3)\n",
    "print(Encoded_text)"
   ],
   "metadata": {
    "colab": {
     "base_uri": "https://localhost:8080/"
    },
    "id": "90EO4xtAG-x8",
    "outputId": "32bb04ac-bc1a-43e9-e712-de9509e09fa6",
    "pycharm": {
     "name": "#%%\n"
    }
   },
   "execution_count": 285,
   "outputs": [
    {
     "output_type": "stream",
     "name": "stdout",
     "text": [
      "in cryptography a caesar cipher also known as caesars cipher the shift cipher caesars code or caesar shift is one of the simplest and most widely known encryption techniques\n",
      "lq fubswrjudskb d fdhvdu flskhu dovr nqrzq dv fdhvduv flskhu wkh vkliw flskhu fdhvduv frgh ru fdhvdu vkliw lv rqh ri wkh vlpsohvw dqg prvw zlghob nqrzq hqfubswlrq whfkqltxhv\n"
     ]
    }
   ]
  },
  {
   "cell_type": "code",
   "source": [
    "model.eval()"
   ],
   "metadata": {
    "colab": {
     "base_uri": "https://localhost:8080/"
    },
    "id": "w6E2BWoCDl59",
    "outputId": "fe56c634-d760-486b-e373-801654aa71f0",
    "pycharm": {
     "name": "#%%\n"
    }
   },
   "execution_count": 286,
   "outputs": [
    {
     "output_type": "execute_result",
     "data": {
      "text/plain": [
       "Rnn(\n",
       "  (embedding): Embedding(27, 64)\n",
       "  (hidden): RNN(64, 128, batch_first=True)\n",
       "  (fc): Linear(in_features=128, out_features=27, bias=True)\n",
       ")"
      ]
     },
     "metadata": {},
     "execution_count": 286
    }
   ]
  },
  {
   "cell_type": "code",
   "source": [
    "X_test=torch.zeros((1, len(sentence)), dtype=int)\n",
    "Y_test=torch.zeros((1, len(sentence)), dtype=int)\n",
    "for i in range(len(sentence)):\n",
    "    X_test[0, i] = letter2index[Encoded_text[i]]\n",
    "    Y_test[0, i] = letter2index[sentence[i]]\n",
    "\n",
    "\n",
    "Y_test=Y_test.flatten()\n",
    "answers = model(X_test)\n",
    "answers = answers.view(-1, len(letter2index))\n",
    "\n",
    "phrase_indexes=torch.argmax(answers, dim=1)\n",
    "accuracy=1-hamming(phrase_indexes, Y_test)\n",
    "print(\"accuracy: {:.4f}\".format(accuracy))\n",
    "phrase=[]\n",
    "for i in phrase_indexes:\n",
    "  phrase.append(index2letter[i.item()])\n",
    "phrase=\"\".join(phrase)  \n",
    "print(\"predicted: \", phrase)"
   ],
   "metadata": {
    "colab": {
     "base_uri": "https://localhost:8080/"
    },
    "id": "XVKe2MB2EprO",
    "outputId": "dca33d79-4f02-4c98-c983-d861087adbdc",
    "pycharm": {
     "name": "#%%\n"
    }
   },
   "execution_count": 287,
   "outputs": [
    {
     "output_type": "stream",
     "name": "stdout",
     "text": [
      "accuracy: 0.9827\n",
      "predicted:  in cryptography a caesar cipher also fnown as caesars cipher the shift cipher caesars code or caesar shift is one of the simplest and most widely fnown encryption technieues\n"
     ]
    }
   ]
  },
  {
   "cell_type": "code",
   "source": [
    "def evaluate_accuracy(data_iter, model):\n",
    "   accur=0.0\n",
    "   data_passed=0\n",
    "   for X_test,Y_test in data_iter:\n",
    "       Y_test=Y_test.flatten()\n",
    "       answers=model(X_test)\n",
    "       answers = answers.view(-1, len(letter2index))\n",
    "       accur += (torch.argmax(answers,dim=1) == Y_test).sum().item()\n",
    "       data_passed += Y_test.shape[0]\n",
    "   return accur/data_passed    \n"
   ],
   "metadata": {
    "id": "Q8QgwmpGHsHf",
    "pycharm": {
     "name": "#%%\n"
    }
   },
   "execution_count": 299,
   "outputs": []
  },
  {
   "cell_type": "code",
   "execution_count": null,
   "outputs": [],
   "source": [
    "sentences, MAX_LEN=prepare_data('harry_potter.txt')"
   ],
   "metadata": {
    "collapsed": false,
    "pycharm": {
     "name": "#%%\n"
    }
   }
  },
  {
   "cell_type": "code",
   "execution_count": null,
   "outputs": [],
   "source": [
    "data = make_data(sentences, MAX_LEN, N=3)"
   ],
   "metadata": {
    "pycharm": {
     "name": "#%%\n",
     "is_executing": true
    },
    "colab": {
     "base_uri": "https://localhost:8080/"
    },
    "outputId": "c68c4a17-7acb-4829-a7d6-c332e606f2c0",
    "id": "d-6_2EVPDNSk"
   }
  },
  {
   "cell_type": "code",
   "source": [
    "model.eval()"
   ],
   "metadata": {
    "colab": {
     "base_uri": "https://localhost:8080/"
    },
    "id": "sHdB93RPDcpR",
    "outputId": "42fedf93-2bde-4238-9093-97e3814cd645",
    "pycharm": {
     "name": "#%%\n"
    }
   },
   "execution_count": 297,
   "outputs": [
    {
     "output_type": "execute_result",
     "data": {
      "text/plain": [
       "Rnn(\n",
       "  (embedding): Embedding(27, 64)\n",
       "  (hidden): RNN(64, 128, batch_first=True)\n",
       "  (fc): Linear(in_features=128, out_features=27, bias=True)\n",
       ")"
      ]
     },
     "metadata": {},
     "execution_count": 297
    }
   ]
  },
  {
   "cell_type": "code",
   "source": [
    "accur=evaluate_accuracy(data, model)\n",
    "print(\"accuracy: {:.4f}\".format(accur))"
   ],
   "metadata": {
    "colab": {
     "base_uri": "https://localhost:8080/"
    },
    "id": "GARRZP7L7PTn",
    "outputId": "fe28fb38-86ec-4e21-81e4-6e0872d682c2",
    "pycharm": {
     "name": "#%%\n"
    }
   },
   "execution_count": 300,
   "outputs": [
    {
     "output_type": "stream",
     "name": "stdout",
     "text": [
      "accuracy: 0.9990\n"
     ]
    }
   ]
  }
 ],
 "metadata": {
  "kernelspec": {
   "display_name": "Python 3",
   "language": "python",
   "name": "python3"
  },
  "language_info": {
   "codemirror_mode": {
    "name": "ipython",
    "version": 2
   },
   "file_extension": ".py",
   "mimetype": "text/x-python",
   "name": "python",
   "nbconvert_exporter": "python",
   "pygments_lexer": "ipython2",
   "version": "2.7.6"
  },
  "colab": {
   "provenance": [],
   "collapsed_sections": []
  }
 },
 "nbformat": 4,
 "nbformat_minor": 0
}