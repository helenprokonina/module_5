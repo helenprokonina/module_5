{
 "cells": [
  {
   "cell_type": "code",
   "execution_count": 55,
   "outputs": [],
   "source": [
    "from io import open\n",
    "import unicodedata\n",
    "import re\n",
    "import random\n",
    "import torch\n",
    "import torch.nn as nn\n",
    "from torch import optim\n",
    "import torch.nn.functional as F\n",
    "from scipy.spatial.distance import cosine\n",
    "import warnings\n",
    "from sklearn.feature_extraction.text import CountVectorizer\n",
    "import nltk\n",
    "from nltk.stem.snowball import SnowballStemmer\n",
    "\n",
    "device = torch.device(\"cuda\" if torch.cuda.is_available() else \"cpu\")\n",
    "warnings.filterwarnings(\"ignore\")"
   ],
   "metadata": {
    "pycharm": {
     "name": "#%%\n"
    },
    "id": "-TVhMxtk6dpz"
   }
  },
  {
   "cell_type": "code",
   "execution_count": 2,
   "outputs": [],
   "source": [
    "# Определим по умолчанию 2 токена которые будут нам информировать о начале предложения и конце предложения (SOS и EOS):\n",
    "SOS_token = 0\n",
    "EOS_token = 1\n",
    "\n",
    "# Создадим объект словаря нашего языка, который будет хранить данные по маппингу слов - index2word и обратно word2index и плюс второстепенные методы по добавлению токена и обработке предложений:\n",
    "class LanguageVocabulary(object):\n",
    "    def __init__(self, name):\n",
    "        # название языка\n",
    "        self.name = name\n",
    "        # словарик word2index который хранит соответственно кодировку слова в целочисленный индекс словаря\n",
    "        self.word2index = {}\n",
    "        # обычный словарик который хранит распределение слов, сколько слов мы использовали и сколько обнаружили\n",
    "        self.word2count = {}\n",
    "        # Обратный словарик словарю word2index где хранятся уже индексы и замаппенные слова к каждому индексу, нужен будет для расшифровки последовательности\n",
    "        self.index2word = {0: \"SOS\", 1: \"EOS\"}\n",
    "        # Count SOS and EOS, храним просто общее количество слов в нашем словаре, то есть количество токенов в сформированном словарике нашего языка\n",
    "        self.n_words = 2\n",
    "        self.MAX_LEN=0 #самое длинное предложение\n",
    "\n",
    "    def add_sentence(self, sentence):\n",
    "        \"\"\"\n",
    "        Метод класса, для добавления предложения в словарь.\n",
    "        Каждое предложение поступающее к нам, будет разбираться на\n",
    "        примитивные токены и добавляться в словарь при помощи метода класса addword()\n",
    "        \"\"\"\n",
    "        length=len(sentence.split(' '))\n",
    "        if length>self.MAX_LEN:\n",
    "            self.MAX_LEN=length\n",
    "        for word in sentence.split(' '):\n",
    "            self.add_word(word)\n",
    "\n",
    "\n",
    "    def add_word(self, word):\n",
    "        # проверяем не входит ли наше слово в словарь word2index\n",
    "        if word not in self.word2index:\n",
    "            # добавляем в качестве ключа слово а в качестве значения последнее n_words\n",
    "            self.word2index[word] = self.n_words\n",
    "            # меняем на единичку\n",
    "            self.word2count[word] = 1\n",
    "            # и соответственно меняем и index2word словарик добавляя уже слово для декодирования\n",
    "            self.index2word[self.n_words] = word\n",
    "            # инкрементируем n_words\n",
    "            self.n_words += 1\n",
    "        else:\n",
    "            # Если такое уже слово есть просто добавляем 1 что добавилось одно слово\n",
    "            self.word2count[word] += 1"
   ],
   "metadata": {
    "pycharm": {
     "name": "#%%\n"
    },
    "id": "sTaU4F966dp5"
   }
  },
  {
   "cell_type": "code",
   "execution_count": 3,
   "outputs": [],
   "source": [
    "# Turn a Unicode string to plain ASCII, thanks to\n",
    "# http://stackoverflow.com/a/518232/2809427\n",
    "def unicode_to_ascii(s):\n",
    "    return ''.join(\n",
    "        c for c in unicodedata.normalize('NFD', s)\n",
    "        if unicodedata.category(c) != 'Mn'\n",
    "    )\n",
    "\n",
    "# Lowercase, trim, and remove non-letter characters\n",
    "def normalize_string(s):\n",
    "    # Декодируем из юникода в ascii\n",
    "    s = unicode_to_ascii(s.lower().strip())\n",
    "    # Что означает данное регулярное выражение - точку, !, ? меняем на пробел чтобы этот символ стоял отдельно от всех\n",
    "    # https://docs.python.org/3/library/re.html - стандартная (родная) библиотка Python которая нужна для работы с регулярными выражениями\n",
    "    s = re.sub(r\"([.!?])\", r\" \\1\", s)\n",
    "    # оставляем только наборы символов указанных в паттерне регулярного выражения остальное заменим на пробел\n",
    "    s = re.sub(r\"[^a-zA-Z.!?]+\", r\" \", s)\n",
    "    return s"
   ],
   "metadata": {
    "pycharm": {
     "name": "#%%\n"
    },
    "id": "QL6ELYyc6dp-"
   }
  },
  {
   "cell_type": "code",
   "execution_count": 4,
   "outputs": [],
   "source": [
    "def read_languages(lang1, lang2, path,  reverse=False):\n",
    "    print(\"Reading lines...\")\n",
    "    # Берем документ корпуса, лежащий в директории ./data/___.txt подставляя значения указанных языков в нашем случае eng-fra, он читается бьется на предложения\n",
    "    lines = open(path+\"/\"+\"%s-%s.txt\" % (lang1, lang2), encoding='utf-8').read().strip().split('\\n')\n",
    "    #print(lines)\n",
    "    # Разбиваем построчно и нормализуем строку:\n",
    "    pairs = [[normalize_string(s) for s in l.split('\\t')] for l in lines]\n",
    "    # Можем создавать и проходить как с целевого языка на исходный так и наоборот:\n",
    "    if reverse:\n",
    "        pairs = [list(reversed(p)) for p in pairs]\n",
    "        input_lang = LanguageVocabulary(lang2)\n",
    "        output_lang = LanguageVocabulary(lang1)\n",
    "    else:\n",
    "        input_lang = LanguageVocabulary(lang1)\n",
    "        output_lang = LanguageVocabulary(lang2)\n",
    "    return input_lang, output_lang, pairs"
   ],
   "metadata": {
    "pycharm": {
     "name": "#%%\n"
    },
    "id": "QeaUG4pD6dqA"
   }
  },
  {
   "cell_type": "code",
   "execution_count": 7,
   "outputs": [],
   "source": [
    "def make_file(lang1, lang2, path, file_name):\n",
    "    f1= open(path+\"/\"+file_name, mode='r', encoding='utf-8')\n",
    "    f2=open(path+\"/%s-%s.txt\" % (lang1,lang2), mode='w', encoding='utf-8')\n",
    "\n",
    "    lines=f1.readlines()\n",
    "    pairs=[re.split(r\"[\\t]\", line)[:2] for line in lines]\n",
    "\n",
    "\n",
    "\n",
    "    for i in range(len(pairs)):\n",
    "        f2.write(pairs[i][0]+\"\\t\"+pairs[i][1]+\"\\n\")\n",
    "\n",
    "\n",
    "    f1.close()\n",
    "    f2.close()"
   ],
   "metadata": {
    "pycharm": {
     "name": "#%%\n"
    },
    "id": "XUcPdRej6dqB"
   }
  },
  {
   "cell_type": "code",
   "execution_count": 58,
   "outputs": [],
   "source": [
    "make_file(\"eng\",\"ita\", \"sample_data/translation_data\", \"ita.txt\")"
   ],
   "metadata": {
    "pycharm": {
     "name": "#%%\n"
    },
    "id": "8xWYDFbW6dqD"
   }
  },
  {
   "cell_type": "code",
   "execution_count": 59,
   "outputs": [],
   "source": [
    "def prepare_data(lang1, lang2, reverse=False):\n",
    "    input_lang, output_lang, pairs = read_languages(lang1, lang2, \"sample_data/translation_data\", reverse)\n",
    "    print(\"Read %s sentence pairs\" % len(pairs))\n",
    "    print(\"Counting words...\")\n",
    "    for pair in pairs:\n",
    "        input_lang.add_sentence(pair[0])\n",
    "        output_lang.add_sentence(pair[1])\n",
    "    print(\"Counted words:\")\n",
    "    print(input_lang.name, input_lang.n_words)\n",
    "    print(output_lang.name, output_lang.n_words)\n",
    "    print(\"Max len in {}: {}\".format(input_lang.name, input_lang.MAX_LEN))\n",
    "    print(\"Max len in {}: {}\".format(output_lang.name, output_lang.MAX_LEN))\n",
    "    MAX_LEN=input_lang.MAX_LEN if input_lang.MAX_LEN>output_lang.MAX_LEN else output_lang.MAX_LEN\n",
    "    return input_lang, output_lang, pairs, MAX_LEN"
   ],
   "metadata": {
    "pycharm": {
     "name": "#%%\n"
    },
    "id": "tyJIPmsL6dqE"
   }
  },
  {
   "cell_type": "code",
   "execution_count": null,
   "outputs": [],
   "source": [
    "input_lang, output_lang, pairs, MAX_LEN = prepare_data('eng', 'ita', False)\n",
    "print(random.choice(pairs))\n",
    "print(MAX_LEN)"
   ],
   "metadata": {
    "pycharm": {
     "name": "#%%\n",
     "is_executing": true
    },
    "colab": {
     "base_uri": "https://localhost:8080/"
    },
    "id": "uxzaK4Nf6dqF",
    "outputId": "d4143d6d-832e-46aa-8fd1-ee4a013ed562"
   }
  },
  {
   "cell_type": "markdown",
   "source": [
    "# Encoder"
   ],
   "metadata": {
    "collapsed": false,
    "pycharm": {
     "name": "#%% md\n"
    },
    "id": "XGjwoItu6dqG"
   }
  },
  {
   "cell_type": "code",
   "execution_count": 11,
   "outputs": [],
   "source": [
    "class EncoderRNN(nn.Module):\n",
    "    def __init__(self, input_size, hidden_size):\n",
    "        super(EncoderRNN, self).__init__()\n",
    "        # Как помним hidden_size - размер скрытого состояния\n",
    "        self.hidden_size = hidden_size\n",
    "        # Слой Эмбеддингов, который из входного вектора последовательности (либо батча) отдаст представление последовательности для скрытого состояния\n",
    "        # FYI: в качестве Input_size у нас размер словаря\n",
    "        self.embedding = nn.Embedding(input_size, hidden_size)\n",
    "        # И соответственно рекуррентная ячейка GRU которая принимает MxM (hidden на hidden)\n",
    "        self.gru = nn.GRU(hidden_size, hidden_size)\n",
    "\n",
    "    def forward(self, input, hidden):\n",
    "        # Приводим эмбеддинг к формату одного предлоежния 1х1 и любая размерность\n",
    "        embedded = self.embedding(input).view(1, 1, -1)\n",
    "        # Нужно для следующего шага пока не запутываемся :) просто присвоили наш эмбеддинг\n",
    "        output = embedded\n",
    "        # и соответственно подаем все в ГРЮ ячейку (эмбеддинг и скрытые состояния)\n",
    "        output, hidden = self.gru(output, hidden)\n",
    "        return output, hidden\n",
    "\n",
    "    def initHidden(self):\n",
    "        # Дополнительно сделаем инициализацию скрытого представления (просто заполним нулями)\n",
    "        return torch.zeros(1, 1, self.hidden_size, device=device)"
   ],
   "metadata": {
    "pycharm": {
     "name": "#%%\n"
    },
    "id": "m7Rh_Edw6dqM"
   }
  },
  {
   "cell_type": "markdown",
   "source": [
    "# Decoder"
   ],
   "metadata": {
    "collapsed": false,
    "pycharm": {
     "name": "#%% md\n"
    },
    "id": "z8vQk0N76dqO"
   }
  },
  {
   "cell_type": "code",
   "execution_count": 12,
   "outputs": [],
   "source": [
    "class AttentionDecoder(nn.Module):\n",
    "    # Будьте внимательны, теперь на вход мы получаем размер скрытого представления\n",
    "    def __init__(self, hidden_size, output_size, dropout_p=0.1, max_length=MAX_LEN):\n",
    "        super(AttentionDecoder, self).__init__()\n",
    "        self.hidden_size = hidden_size\n",
    "        self.output_size = output_size\n",
    "        self.dropout_p = dropout_p\n",
    "        self.max_length = max_length\n",
    "\n",
    "        self.embedding = nn.Embedding(self.output_size, self.hidden_size)\n",
    "        self.attn = nn.Linear(self.hidden_size * 2, self.max_length)\n",
    "        self.attn_combine = nn.Linear(self.hidden_size * 2, self.hidden_size)\n",
    "        self.dropout = nn.Dropout(self.dropout_p)\n",
    "        self.gru = nn.GRU(self.hidden_size, self.hidden_size)\n",
    "        self.out = nn.Linear(self.hidden_size, self.output_size)\n",
    "\n",
    "    def forward(self, input, hidden, encoder_outputs):\n",
    "        embedded = self.embedding(input).view(1, 1, -1)\n",
    "        embedded = self.dropout(embedded)\n",
    "\n",
    "        attn_weights = F.softmax(\n",
    "            self.attn(torch.cat((embedded[0], hidden[0]), 1)), dim=1)\n",
    "        attn_applied = torch.bmm(attn_weights.unsqueeze(0),\n",
    "                                 encoder_outputs.unsqueeze(0))  #вектор контекста c\n",
    "\n",
    "        output = torch.cat((embedded[0], attn_applied[0]), 1)  #[y, c]\n",
    "        output = self.attn_combine(output).unsqueeze(0)\n",
    "\n",
    "        output = F.relu(output)\n",
    "        output, hidden = self.gru(output, hidden)\n",
    "\n",
    "        output = F.log_softmax(self.out(output[0]), dim=1)\n",
    "        return output, hidden, attn_weights\n",
    "\n",
    "    def initHidden(self):\n",
    "        return torch.zeros(1, 1, self.hidden_size, device=device)"
   ],
   "metadata": {
    "pycharm": {
     "name": "#%%\n"
    },
    "id": "LExygWPg6dqQ"
   }
  },
  {
   "cell_type": "code",
   "execution_count": 13,
   "outputs": [],
   "source": [
    "# Токены кодируем в целочисленное представление\n",
    "def indexesFromSentence(lang, sentence):\n",
    "    return [lang.word2index[word] for word in sentence.split(' ')]\n",
    "\n",
    "\n",
    "# Берем предложение с указанным языком, делаем из него индексы и вставляем метку конца предложения, превращаем в тензор:\n",
    "def tensorFromSentence(lang, sentence):\n",
    "    indexes = indexesFromSentence(lang, sentence)\n",
    "    indexes.append(EOS_token)\n",
    "    return torch.tensor(indexes, dtype=torch.long, device=device).view(-1, 1)\n",
    "\n",
    "# Для создания тензора из пар:\n",
    "def tensorsFromPair(pair):\n",
    "    input_tensor = tensorFromSentence(input_lang, pair[0])\n",
    "    target_tensor = tensorFromSentence(output_lang, pair[1])\n",
    "    return (input_tensor, target_tensor)"
   ],
   "metadata": {
    "pycharm": {
     "name": "#%%\n"
    },
    "id": "3ltmX2rM6dqS"
   }
  },
  {
   "cell_type": "code",
   "execution_count": 14,
   "outputs": [],
   "source": [
    "teacher_forcing_ratio = 0.5\n",
    "\n",
    "\n",
    "def train(input_tensor, target_tensor, encoder, decoder, encoder_optimizer, decoder_optimizer, criterion, max_length=MAX_LEN):\n",
    "    # Просто инициализируем скрытое представление для энкодера\n",
    "    encoder_hidden = encoder.initHidden()\n",
    "    # Скиыдваем градиенты для алгоритма градиентного спуска как и у энкодера так и у дэкодера\n",
    "    encoder_optimizer.zero_grad()\n",
    "    decoder_optimizer.zero_grad()\n",
    "    # Получаем размер в словаря (токенов) для входящего и выходящего тензора так как мы пробегаемся по каждому предложению по кусочкам\n",
    "    input_length = input_tensor.size(0)\n",
    "    target_length = target_tensor.size(0)\n",
    "    # Создаем переменную где будем хранить наши выходы из энкодера (в данной реализации пока не юзаем, далее будет еще один вариант)\n",
    "    encoder_outputs = torch.zeros(max_length, encoder.hidden_size, device=device)\n",
    "    loss = 0\n",
    "    # пробегаем по длине входящего тензора и в экодер передаем последовательно каждый из токенов:\n",
    "    for ei in range(input_length):\n",
    "        encoder_output, encoder_hidden = encoder(input_tensor[ei], encoder_hidden)\n",
    "        # Сохраняем все выходы из энкодера для одного слова (для передачи в декодер, ниже)\n",
    "        encoder_outputs[ei] = encoder_output[0, 0]\n",
    "\n",
    "\n",
    "    # Закончили с энкодером пошли к декодеру, как было сказано декодер начинается с SOS\n",
    "    decoder_input = torch.tensor([[SOS_token]], device=device)\n",
    "    # FYI здесь мы скрытое представление из энкодера передаем в скрытое представление в декодер, то есть после знака =\n",
    "    # у нас будут ходить градиенты из декодера в энкодер, то есть когда мы будем считать градиенты, они сначала пробегут по декодеру\n",
    "    # дойдут до знака = перескочат в энкодер и будут дальше считаться по энкодеру и эти градиенты сохранятся в соответствующих тензорах\n",
    "    # и когда будут отрабатывать разные оптимайзеры (у нас их 2) у них будут соответствующие правильные градиенты которые смогут правильно отработать\n",
    "    decoder_hidden = encoder_hidden\n",
    "\n",
    "    # Будем использовать Teacher Forcing в части случае (подставляя правильную последовательность)\n",
    "    use_teacher_forcing = True if random.random() < teacher_forcing_ratio else False\n",
    "    if use_teacher_forcing:\n",
    "        # Подаем decoder_input = torch.tensor([[SOS_token]], device=device) то есть по одному слову и скрытое представление\n",
    "        for di in range(target_length):\n",
    "            # Переведенное предложение и скрытое представление\n",
    "            decoder_output, decoder_hidden, decoder_attention = decoder(decoder_input, decoder_hidden, encoder_outputs)\n",
    "            # Считаем ошибку\n",
    "            loss += criterion(decoder_output, target_tensor[di])\n",
    "            decoder_input = target_tensor[di]  # Teacher forcing\n",
    "    else:\n",
    "        for di in range(target_length):\n",
    "            decoder_output, decoder_hidden, decoder_attention = decoder(decoder_input, decoder_hidden, encoder_outputs)\n",
    "            topv, topi = decoder_output.topk(1)\n",
    "            decoder_input = topi.squeeze().detach()  # detach from history as input\n",
    "            loss += criterion(decoder_output, target_tensor[di])\n",
    "            if decoder_input.item() == EOS_token:\n",
    "                break\n",
    "    loss.backward()\n",
    "    encoder_optimizer.step()\n",
    "    decoder_optimizer.step()\n",
    "    return loss.item() / target_length"
   ],
   "metadata": {
    "pycharm": {
     "name": "#%%\n"
    },
    "id": "cczjpqyR6dqT"
   }
  },
  {
   "cell_type": "code",
   "execution_count": 15,
   "outputs": [],
   "source": [
    "import time\n",
    "import math\n",
    "\n",
    "\n",
    "def asMinutes(s):\n",
    "    m = math.floor(s / 60)\n",
    "    s -= m * 60\n",
    "    return '%dm %ds' % (m, s)\n",
    "\n",
    "\n",
    "def timeSince(since, percent):\n",
    "    now = time.time()\n",
    "    s = now - since\n",
    "    es = s / percent\n",
    "    rs = es - s\n",
    "    return '%s (- eta: %s)' % (asMinutes(s), asMinutes(rs))"
   ],
   "metadata": {
    "pycharm": {
     "name": "#%%\n"
    },
    "id": "dGmKWTgA6dqV"
   }
  },
  {
   "cell_type": "code",
   "execution_count": 62,
   "outputs": [],
   "source": [
    "def trainIters(encoder, decoder, n_iters, print_every=1000, learning_rate=0.01):\n",
    "    start = time.time()\n",
    "    plot_losses = []\n",
    "    print_loss_total = 0  # Reset every print_every\n",
    "    \n",
    "\n",
    "    encoder_optimizer = optim.SGD(encoder.parameters(), lr=learning_rate)\n",
    "    decoder_optimizer = optim.SGD(decoder.parameters(), lr=learning_rate)\n",
    "    # Делаем выборку наших пар функцией которую создали до\n",
    "    training_pairs = [tensorsFromPair(random.choice(pairs)) for i in range(n_iters)]\n",
    "    # FYI! Используем Negative Log-Likelihood Loss потому что log softmax уже присутствует в модели\n",
    "    criterion = nn.NLLLoss()\n",
    "\n",
    "    for epoch in range(1, n_iters + 1):\n",
    "        training_pair = training_pairs[epoch - 1]\n",
    "        input_tensor = training_pair[0]\n",
    "        target_tensor = training_pair[1]\n",
    "        # Используем функцию для тренировки на отдельных токенах, которую написали выше\n",
    "        loss = train(input_tensor, target_tensor, encoder,\n",
    "                     decoder, encoder_optimizer, decoder_optimizer, criterion)\n",
    "        print_loss_total += loss\n",
    "        \n",
    "        if epoch % print_every == 0:\n",
    "            print_loss_avg = print_loss_total / print_every\n",
    "            print_loss_total = 0\n",
    "            print('%s (%d %d%%) %.4f' % (timeSince(start, epoch / n_iters),\n",
    "                                         epoch, epoch / n_iters * 100, print_loss_avg))\n",
    "\n",
    "        \n"
   ],
   "metadata": {
    "pycharm": {
     "name": "#%%\n"
    },
    "id": "9yzKiARN6dqX"
   }
  },
  {
   "cell_type": "code",
   "execution_count": 19,
   "outputs": [],
   "source": [
    "def evaluate(encoder, decoder, sentence, max_length=MAX_LEN):\n",
    "    with torch.no_grad():\n",
    "        input_tensor = tensorFromSentence(input_lang, sentence)\n",
    "        input_length = input_tensor.size()[0]\n",
    "        encoder_hidden = encoder.initHidden()\n",
    "\n",
    "        encoder_outputs = torch.zeros(max_length, encoder.hidden_size, device=device)\n",
    "\n",
    "        for ei in range(input_length):\n",
    "            encoder_output, encoder_hidden = encoder(input_tensor[ei],\n",
    "                                                     encoder_hidden)\n",
    "            encoder_outputs[ei] = encoder_output[0, 0]\n",
    "\n",
    "        decoder_input = torch.tensor([[SOS_token]], device=device)  # SOS\n",
    "\n",
    "        decoder_hidden = encoder_hidden\n",
    "\n",
    "        decoded_words = []\n",
    "        decoder_attentions = torch.zeros(max_length, max_length)\n",
    "\n",
    "        for di in range(max_length):\n",
    "            decoder_output, decoder_hidden, decoder_attention = decoder(\n",
    "                decoder_input, decoder_hidden, encoder_outputs)\n",
    "            decoder_attentions[di] = decoder_attention.data\n",
    "            topv, topi = decoder_output.data.topk(1)\n",
    "            if topi.item() == EOS_token:\n",
    "                decoded_words.append('<EOS>')\n",
    "                break\n",
    "            else:\n",
    "                decoded_words.append(output_lang.index2word[topi.item()])\n",
    "\n",
    "            decoder_input = topi.squeeze().detach()\n",
    "\n",
    "        return decoded_words, decoder_attentions[:di + 1]"
   ],
   "metadata": {
    "pycharm": {
     "name": "#%%\n"
    },
    "id": "JF_2qDNy6dqY"
   }
  },
  {
   "cell_type": "markdown",
   "source": [],
   "metadata": {
    "collapsed": false,
    "pycharm": {
     "name": "#%% md\n"
    },
    "id": "hKeWqbQJ6dqa"
   }
  },
  {
   "cell_type": "code",
   "execution_count": 100,
   "outputs": [],
   "source": [
    "#для оценки перевода\n",
    "\n",
    "def calc_accuracy(y, target, output_lang, lang_name, hidden_size):\n",
    "    #y - полученный перевод\n",
    "    #target - целевой перевод\n",
    "    Stemmer=SnowballStemmer(lang_name)\n",
    "    y_normalized=[]\n",
    "    target_normalized=[]\n",
    "    for token in y.split(' '):\n",
    "        y_normalized.append(Stemmer.stem(token))\n",
    "    y_normalized=' '.join(y_normalized)  \n",
    "    for token in target.split(' '):\n",
    "      target_normalized.append(Stemmer.stem(token))\n",
    "    target_normalized=' '.join(target_normalized)  \n",
    "\n",
    "    corpus=[y_normalized, target_normalized]\n",
    "    vectorizer = CountVectorizer()\n",
    "    X = vectorizer.fit_transform(corpus).toarray()\n",
    "    y_vectorized=X[0]\n",
    "    target_vectorized=X[1]\n",
    "    \n",
    "    return 1-cosine(y_vectorized, target_vectorized)"
   ],
   "metadata": {
    "pycharm": {
     "name": "#%%\n"
    },
    "id": "7S2lohIt6dqa"
   }
  },
  {
   "cell_type": "code",
   "execution_count": 98,
   "outputs": [],
   "source": [
    "def evaluateRandomly(encoder, decoder, output_lang, lang_name, n=10):\n",
    "    for i in range(n):\n",
    "        pair = random.choice(pairs)\n",
    "        print('>', pair[0])\n",
    "        print('=', pair[1])\n",
    "        output_words, attentions = evaluate(encoder, decoder, pair[0])\n",
    "        output_sentence = ' '.join(output_words[:-1]) #без <EOS>\n",
    "        print('<', output_sentence)\n",
    "        print(\"accuracy: {:.4f}\". format(calc_accuracy(output_sentence, pair[1], output_lang, lang_name, hidden_size)))\n",
    "        print('\\n')"
   ],
   "metadata": {
    "pycharm": {
     "name": "#%%\n"
    },
    "id": "wu9qH5dC6dqc"
   }
  },
  {
   "cell_type": "markdown",
   "source": [
    "# Обучение"
   ],
   "metadata": {
    "collapsed": false,
    "pycharm": {
     "name": "#%% md\n"
    },
    "id": "JSJ_ei3a6dqd"
   }
  },
  {
   "cell_type": "code",
   "execution_count": null,
   "outputs": [],
   "source": [
    "hidden_size = 512\n",
    "encoder1 = EncoderRNN(input_lang.n_words, hidden_size).to(device)\n",
    "decoder1 = AttentionDecoder(hidden_size, output_lang.n_words, dropout_p=0.1).to(device)\n",
    "trainIters(encoder1, decoder1, 10000, print_every=1000)"
   ],
   "metadata": {
    "pycharm": {
     "name": "#%%\n"
    },
    "id": "nY5_38406dqe"
   }
  },
  {
   "cell_type": "code",
   "execution_count": 102,
   "outputs": [
    {
     "output_type": "stream",
     "name": "stdout",
     "text": [
      "> stay .\n",
      "= resti .\n",
      "< resti .\n",
      "accuracy: 1.0000\n",
      "\n",
      "\n",
      "> be calm .\n",
      "= sii calma .\n",
      "< sia calma .\n",
      "accuracy: 0.5000\n",
      "\n",
      "\n",
      "> smile .\n",
      "= sorridi .\n",
      "< sorridete .\n",
      "accuracy: 1.0000\n",
      "\n",
      "\n",
      "> burn it .\n",
      "= brucialo .\n",
      "< lo bruci .\n",
      "accuracy: 0.0000\n",
      "\n",
      "\n",
      "> go on .\n",
      "= andate avanti .\n",
      "< continua .\n",
      "accuracy: 0.0000\n",
      "\n",
      "\n",
      "> i fell .\n",
      "= io sono caduto .\n",
      "< sono caduto .\n",
      "accuracy: 0.8165\n",
      "\n",
      "\n",
      "> burn it .\n",
      "= bruciatela .\n",
      "< lo bruci .\n",
      "accuracy: 0.0000\n",
      "\n",
      "\n",
      "> wait !\n",
      "= aspetti !\n",
      "< aspetta !\n",
      "accuracy: 1.0000\n",
      "\n",
      "\n",
      "> i fled .\n",
      "= fuggii .\n",
      "< sono fuggita .\n",
      "accuracy: 0.7071\n",
      "\n",
      "\n",
      "> burn it .\n",
      "= bruciala .\n",
      "< lo bruci .\n",
      "accuracy: 0.0000\n",
      "\n",
      "\n"
     ]
    }
   ],
   "source": [
    "evaluateRandomly(encoder1, decoder1, output_lang, \"italian\")"
   ],
   "metadata": {
    "pycharm": {
     "name": "#%%\n"
    },
    "colab": {
     "base_uri": "https://localhost:8080/"
    },
    "id": "uz0atREW6dqg",
    "outputId": "a6b4eb10-ff29-4f2f-94a3-f228d464b264"
   }
  },
  {
   "cell_type": "code",
   "source": [],
   "metadata": {
    "id": "KXlgRVI07_4j"
   },
   "execution_count": null,
   "outputs": []
  }
 ],
 "metadata": {
  "kernelspec": {
   "display_name": "Python 3",
   "language": "python",
   "name": "python3"
  },
  "language_info": {
   "codemirror_mode": {
    "name": "ipython",
    "version": 2
   },
   "file_extension": ".py",
   "mimetype": "text/x-python",
   "name": "python",
   "nbconvert_exporter": "python",
   "pygments_lexer": "ipython2",
   "version": "2.7.6"
  },
  "colab": {
   "provenance": [],
   "collapsed_sections": []
  }
 },
 "nbformat": 4,
 "nbformat_minor": 0
}