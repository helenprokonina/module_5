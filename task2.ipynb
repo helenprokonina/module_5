{
 "cells": [
  {
   "cell_type": "code",
   "execution_count": 1,
   "outputs": [],
   "source": [
    "import torch\n",
    "import torch.nn as nn\n",
    "from torch import optim\n",
    "import warnings\n",
    "import random\n",
    "import numpy as np\n",
    "from matplotlib import pyplot as plt\n",
    "\n",
    "\n",
    "warnings.filterwarnings(\"ignore\")"
   ],
   "metadata": {
    "pycharm": {
     "name": "#%%\n"
    },
    "id": "TjgPPpQ-cwS2"
   }
  },
  {
   "cell_type": "code",
   "execution_count": 2,
   "outputs": [],
   "source": [
    "def generate_x(N):\n",
    "    X=np.random.randint(0, 9, size=N, dtype=int)\n",
    "    X=list(X)\n",
    "    return X"
   ],
   "metadata": {
    "pycharm": {
     "name": "#%%\n"
    },
    "id": "miGY0RcHcwS8"
   }
  },
  {
   "cell_type": "code",
   "execution_count": 3,
   "outputs": [],
   "source": [
    "def generate_y(X):\n",
    "    Y=[X[0]]\n",
    "    for x in X[1:]:\n",
    "        y=x+X[0]\n",
    "        if y>=10:\n",
    "            y=y-10\n",
    "        Y.append(y)\n",
    "    return Y"
   ],
   "metadata": {
    "pycharm": {
     "name": "#%%\n"
    },
    "id": "p1kdzuf0cwS-"
   }
  },
  {
   "cell_type": "code",
   "execution_count": 77,
   "outputs": [],
   "source": [
    "def generate_data(N):\n",
    "    X=generate_x(N)\n",
    "    Y=generate_y(X)\n",
    "    X_train=torch.tensor(X, dtype=torch.long).view(N,1)\n",
    "    Y_train=torch.tensor(Y, dtype=torch.long).view(N,1)\n",
    "    return X_train, Y_train"
   ],
   "metadata": {
    "pycharm": {
     "name": "#%%\n"
    },
    "id": "f5oXYpf1cwS_"
   }
  },
  {
   "cell_type": "code",
   "execution_count": 74,
   "outputs": [],
   "source": [
    "# Строим класс RNN\n",
    "class RNNmodel(torch.nn.Module):\n",
    "                        # тип     размер словаря  размер эмб       скрытые слои   классы\n",
    "    def __init__(self, dictionary_size, embedding_size, num_hiddens, output_size):\n",
    "        super().__init__()\n",
    "        self.num_hiddens = num_hiddens\n",
    "        self.embedding = nn.Embedding(dictionary_size, embedding_size)\n",
    "        self.hidden = nn.RNN(embedding_size, num_hiddens, batch_first=True)\n",
    "        self.fc = nn.Linear(num_hiddens, output_size)\n",
    "        \n",
    "\n",
    "\n",
    "    def forward(self, X):\n",
    "        out = self.embedding(X)\n",
    "        out, state = self.hidden(out)\n",
    "        predictions = self.fc(out)\n",
    "        return predictions"
   ],
   "metadata": {
    "pycharm": {
     "name": "#%%\n"
    },
    "id": "A4gP5KU9cwTA"
   }
  },
  {
   "cell_type": "code",
   "execution_count": 75,
   "outputs": [],
   "source": [
    "#строим класс LSTM\n",
    "class LSTMmodel(torch.nn.Module):\n",
    "                        # тип     размер словаря  размер эмб       скрытые слои   классы\n",
    "    def __init__(self, dictionary_size, embedding_size, num_hiddens, output_size):\n",
    "        super().__init__()\n",
    "        self.num_hiddens = num_hiddens\n",
    "        self.embedding = nn.Embedding(dictionary_size, embedding_size)\n",
    "        self.hidden = nn.LSTM(embedding_size, num_hiddens, batch_first=True)\n",
    "        self.fc = nn.Linear(num_hiddens, output_size)\n",
    "        \n",
    "\n",
    "    def forward(self, X):\n",
    "        out = self.embedding(X)\n",
    "        out, state = self.hidden(out)\n",
    "        predictions = self.fc(out)\n",
    "        return predictions"
   ],
   "metadata": {
    "pycharm": {
     "name": "#%%\n"
    },
    "id": "fwVuALFfcwTC"
   }
  },
  {
   "cell_type": "code",
   "execution_count": 76,
   "outputs": [],
   "source": [
    "#строим класс GRU\n",
    "class GRUmodel(torch.nn.Module):\n",
    "                        # тип     размер словаря  размер эмб       скрытые слои   классы\n",
    "    def __init__(self, dictionary_size, embedding_size, num_hiddens, output_size):\n",
    "        super().__init__()\n",
    "        self.num_hiddens = num_hiddens\n",
    "        self.embedding = nn.Embedding(dictionary_size, embedding_size)\n",
    "        self.hidden = nn.GRU(embedding_size, num_hiddens, batch_first=True)\n",
    "        self.fc = nn.Linear(num_hiddens, output_size)\n",
    "        \n",
    "\n",
    "    def forward(self, X):\n",
    "        out = self.embedding(X)\n",
    "        out, state = self.hidden(out)  # в state приходят все h-выходы и последний cell выход (между LSTM  и GRU\n",
    "        predictions = self.fc(out) #в LSTM state=(hidden, cell), state[0]=hidden\n",
    "        return predictions"
   ],
   "metadata": {
    "pycharm": {
     "name": "#%%\n"
    },
    "id": "1Ej2AHy_cwTE"
   }
  },
  {
   "cell_type": "code",
   "execution_count": 82,
   "outputs": [],
   "source": [
    "model_rnn=RNNmodel(dictionary_size=10, embedding_size=64, num_hiddens=128, output_size=10)\n",
    "model_lstm=LSTMmodel(dictionary_size=10, embedding_size=64, num_hiddens=128, output_size=10)\n",
    "model_gru=GRUmodel(dictionary_size=10, embedding_size=64, num_hiddens=128, output_size=10)"
   ],
   "metadata": {
    "pycharm": {
     "name": "#%%\n"
    },
    "id": "kaqGFVMscwTF"
   }
  },
  {
   "cell_type": "code",
   "source": [
    "X_train, Y_train=generate_data(10000)"
   ],
   "metadata": {
    "id": "BeL3Gsy1mScJ",
    "pycharm": {
     "name": "#%%\n"
    }
   },
   "execution_count": 78,
   "outputs": []
  },
  {
   "cell_type": "code",
   "execution_count": 81,
   "outputs": [],
   "source": [
    "def train(model, X_train, Y_train,  num_epochs):\n",
    "\n",
    "    criterion = torch.nn.CrossEntropyLoss(reduction='mean')\n",
    "    optimizer = torch.optim.Adam(model.parameters(), lr=0.0001)\n",
    "\n",
    "    arr_losses=[]\n",
    "\n",
    "    for ep in range(num_epochs):\n",
    "        train_loss = 0.\n",
    "        train_passed = 0\n",
    "\n",
    "        model.train()\n",
    "\n",
    "        for i in range(int(len(X_train)/100)):\n",
    "            X_batch = X_train[i*(100):(i+1)*100]\n",
    "            Y_batch = Y_train[i*(100):(i+1)*100] \n",
    "            Y_batch = Y_batch.flatten()\n",
    "            #print(Y_batch.shape)\n",
    "\n",
    "            optimizer.zero_grad()\n",
    "            answers = model.forward(X_batch)\n",
    "            #print(answers.shape)\n",
    "            answers = answers.view(-1, 10) #num_classes=10\n",
    "            #print(answers.shape)\n",
    "            #print(answers)\n",
    "            loss = criterion(answers, Y_batch)\n",
    "            train_loss += loss.item()\n",
    "\n",
    "            loss.backward()\n",
    "            optimizer.step()\n",
    "            train_passed += 1\n",
    "\n",
    "\n",
    "        arr_losses.append(train_loss / train_passed)\n",
    "        print(\"Epoch {}. Train loss: {:.3f}\".format(ep, train_loss / train_passed))\n",
    "\n",
    "    return arr_losses"
   ],
   "metadata": {
    "pycharm": {
     "name": "#%%\n"
    },
    "id": "PnJWPnaLcwTH"
   }
  },
  {
   "cell_type": "code",
   "execution_count": 83,
   "outputs": [
    {
     "output_type": "stream",
     "name": "stdout",
     "text": [
      "Epoch 0. Train loss: 1.859\n",
      "Epoch 1. Train loss: 0.914\n",
      "Epoch 2. Train loss: 0.405\n",
      "Epoch 3. Train loss: 0.200\n",
      "Epoch 4. Train loss: 0.115\n",
      "Epoch 5. Train loss: 0.075\n",
      "Epoch 6. Train loss: 0.053\n",
      "Epoch 7. Train loss: 0.039\n",
      "Epoch 8. Train loss: 0.031\n",
      "Epoch 9. Train loss: 0.024\n",
      "Epoch 10. Train loss: 0.020\n",
      "Epoch 11. Train loss: 0.017\n",
      "Epoch 12. Train loss: 0.014\n",
      "Epoch 13. Train loss: 0.012\n",
      "Epoch 14. Train loss: 0.011\n",
      "Epoch 15. Train loss: 0.009\n",
      "Epoch 16. Train loss: 0.008\n",
      "Epoch 17. Train loss: 0.007\n",
      "Epoch 18. Train loss: 0.007\n",
      "Epoch 19. Train loss: 0.006\n"
     ]
    }
   ],
   "source": [
    "#dictionary size=10, так как 10 классов: 0-9\n",
    "#предсказываем так же из 10 классов: цифру от 0 до 9\n",
    "#64 - слой эмбедингов\n",
    "#128 - скрытые слои\n",
    "lossesRNN=train(model_rnn, X_train, Y_train, 20)"
   ],
   "metadata": {
    "pycharm": {
     "name": "#%%\n"
    },
    "colab": {
     "base_uri": "https://localhost:8080/"
    },
    "id": "i3Wwi-6JcwTL",
    "outputId": "25cffce1-d9f7-4e4f-e7e3-30a288ae1d9a"
   }
  },
  {
   "cell_type": "code",
   "execution_count": 84,
   "outputs": [
    {
     "output_type": "stream",
     "name": "stdout",
     "text": [
      "Epoch 0. Train loss: 2.132\n",
      "Epoch 1. Train loss: 1.647\n",
      "Epoch 2. Train loss: 1.072\n",
      "Epoch 3. Train loss: 0.597\n",
      "Epoch 4. Train loss: 0.321\n",
      "Epoch 5. Train loss: 0.184\n",
      "Epoch 6. Train loss: 0.117\n",
      "Epoch 7. Train loss: 0.080\n",
      "Epoch 8. Train loss: 0.058\n",
      "Epoch 9. Train loss: 0.044\n",
      "Epoch 10. Train loss: 0.035\n",
      "Epoch 11. Train loss: 0.028\n",
      "Epoch 12. Train loss: 0.023\n",
      "Epoch 13. Train loss: 0.019\n",
      "Epoch 14. Train loss: 0.016\n",
      "Epoch 15. Train loss: 0.014\n",
      "Epoch 16. Train loss: 0.012\n",
      "Epoch 17. Train loss: 0.011\n",
      "Epoch 18. Train loss: 0.010\n",
      "Epoch 19. Train loss: 0.009\n"
     ]
    }
   ],
   "source": [
    "lossesLSTM=train(model_lstm, X_train, Y_train, 20)"
   ],
   "metadata": {
    "pycharm": {
     "name": "#%%\n"
    },
    "colab": {
     "base_uri": "https://localhost:8080/"
    },
    "id": "hoZjoBWicwTN",
    "outputId": "d2e9e932-bc3d-40dc-c686-5233b31d50c2"
   }
  },
  {
   "cell_type": "code",
   "execution_count": 85,
   "outputs": [
    {
     "output_type": "stream",
     "name": "stdout",
     "text": [
      "Epoch 0. Train loss: 1.926\n",
      "Epoch 1. Train loss: 1.228\n",
      "Epoch 2. Train loss: 0.641\n",
      "Epoch 3. Train loss: 0.309\n",
      "Epoch 4. Train loss: 0.164\n",
      "Epoch 5. Train loss: 0.099\n",
      "Epoch 6. Train loss: 0.066\n",
      "Epoch 7. Train loss: 0.047\n",
      "Epoch 8. Train loss: 0.035\n",
      "Epoch 9. Train loss: 0.027\n",
      "Epoch 10. Train loss: 0.022\n",
      "Epoch 11. Train loss: 0.018\n",
      "Epoch 12. Train loss: 0.015\n",
      "Epoch 13. Train loss: 0.013\n",
      "Epoch 14. Train loss: 0.011\n",
      "Epoch 15. Train loss: 0.010\n",
      "Epoch 16. Train loss: 0.008\n",
      "Epoch 17. Train loss: 0.007\n",
      "Epoch 18. Train loss: 0.007\n",
      "Epoch 19. Train loss: 0.006\n"
     ]
    }
   ],
   "source": [
    "lossesGRU=train(model_gru, X_train, Y_train, 20)"
   ],
   "metadata": {
    "pycharm": {
     "name": "#%%\n"
    },
    "colab": {
     "base_uri": "https://localhost:8080/"
    },
    "id": "dG3MeO8_cwTP",
    "outputId": "17df4cbe-7cca-4107-c4f0-39830d7c429b"
   }
  },
  {
   "cell_type": "code",
   "execution_count": 86,
   "outputs": [
    {
     "output_type": "display_data",
     "data": {
      "text/plain": [
       "<Figure size 864x288 with 3 Axes>"
      ],
      "image/png": "[encoded data removed]"
     },
     "metadata": {
      "needs_background": "light"
     }
    }
   ],
   "source": [
    "losses=[lossesRNN, lossesLSTM, lossesGRU]\n",
    "names=['RNN train', 'LSTM train', 'GRU train']\n",
    "#plt.figure(figsize=(24,6))\n",
    "fig, axs = plt.subplots(1, 3, figsize=(12,4))\n",
    "for i in range(3):\n",
    "    axs[i].plot(losses[i])\n",
    "    axs[i].set_title(names[i])"
   ],
   "metadata": {
    "pycharm": {
     "name": "#%%\n"
    },
    "colab": {
     "base_uri": "https://localhost:8080/",
     "height": 281
    },
    "id": "JzYxtWLkcwTQ",
    "outputId": "5e433012-a734-49a9-dd40-8c2fcea79089"
   }
  },
  {
   "cell_type": "code",
   "execution_count": 134,
   "outputs": [],
   "source": [
    "def eval_model(model, X_test, Y_test):\n",
    "    model.eval()\n",
    "    accur = 0.\n",
    "    data_passed = 0\n",
    "\n",
    "    for i in range(int(len(X_test)/100)):\n",
    "        X_batch = X_test[i*(100):(i+1)*100]\n",
    "        Y_batch = Y_test[i*(100):(i+1)*100] \n",
    "        Y_batch = Y_batch.flatten()\n",
    "            #print(Y_batch.shape)\n",
    "\n",
    "\n",
    "        answers = model.forward(X_batch)\n",
    "        answers = answers.view(-1, 10) #num_classes=10\n",
    "        \n",
    "        accur += (torch.argmax(answers,dim=1) == Y_batch).sum().item()\n",
    "        data_passed += Y_batch.shape[0]\n",
    "\n",
    "    return accur/data_passed"
   ],
   "metadata": {
    "pycharm": {
     "name": "#%%\n"
    },
    "id": "p-OHvxlfcwTR"
   }
  },
  {
   "cell_type": "code",
   "source": [
    "#сгенерируем продолжение тренировочной последовательности, которую не видела модель\n",
    "def generate_test_data(X_train, N):\n",
    "    X_test=X_train[:N]\n",
    "    random.shuffle(X_test)\n",
    "    Y_test=[]\n",
    "    for i in range(len(X_test)):\n",
    "      y=X_train[0]+X_test[i]\n",
    "      if y>=10:\n",
    "        y=y-10\n",
    "      Y_test.append(y)  \n",
    "    X_test=torch.tensor(X_test, dtype=torch.long).view(N,1)\n",
    "    Y_test=torch.tensor(Y_test, dtype=torch.long).view(N,1)\n",
    "    return X_test, Y_test  \n"
   ],
   "metadata": {
    "id": "OUmiruPxqmY3",
    "pycharm": {
     "name": "#%%\n"
    }
   },
   "execution_count": 119,
   "outputs": []
  },
  {
   "cell_type": "code",
   "source": [
    "X_test, Y_test = generate_test_data(X_train, N=1000)"
   ],
   "metadata": {
    "id": "nXWnajEstbP5",
    "pycharm": {
     "name": "#%%\n"
    }
   },
   "execution_count": 127,
   "outputs": []
  },
  {
   "cell_type": "code",
   "execution_count": 135,
   "outputs": [
    {
     "output_type": "stream",
     "name": "stdout",
     "text": [
      "RNN accuracy: 1.0000 \n",
      "LSTM accuracy: 1.0000 \n",
      "GRU accuracy: 1.0000 \n"
     ]
    }
   ],
   "source": [
    "accur_RNN=eval_model(model_rnn, X_test, Y_test)\n",
    "accur_LSTM=eval_model(model_lstm, X_test, Y_test)\n",
    "accur_GRU=eval_model(model_gru, X_test, Y_test)\n",
    "print(\"RNN accuracy: {:.4f} \".format(accur_RNN))\n",
    "print(\"LSTM accuracy: {:.4f} \".format(accur_LSTM))\n",
    "print(\"GRU accuracy: {:.4f} \".format(accur_GRU))"
   ],
   "metadata": {
    "pycharm": {
     "name": "#%%\n"
    },
    "colab": {
     "base_uri": "https://localhost:8080/"
    },
    "id": "8WYex_eYcwTS",
    "outputId": "b4ab99c1-4a45-4cde-c14e-679466882a42"
   }
  },
  {
   "cell_type": "code",
   "source": [],
   "metadata": {
    "id": "At1W25v7vlot",
    "pycharm": {
     "name": "#%%\n"
    }
   },
   "execution_count": null,
   "outputs": []
  }
 ],
 "metadata": {
  "kernelspec": {
   "display_name": "Python 3",
   "language": "python",
   "name": "python3"
  },
  "language_info": {
   "codemirror_mode": {
    "name": "ipython",
    "version": 2
   },
   "file_extension": ".py",
   "mimetype": "text/x-python",
   "name": "python",
   "nbconvert_exporter": "python",
   "pygments_lexer": "ipython2",
   "version": "2.7.6"
  },
  "colab": {
   "provenance": []
  }
 },
 "nbformat": 4,
 "nbformat_minor": 0
}